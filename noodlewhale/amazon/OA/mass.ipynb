{
 "cells": [
  {
   "cell_type": "code",
   "execution_count": 5,
   "metadata": {},
   "outputs": [],
   "source": [
    "#  brute-force is n*2, need to get it to nlogn\n",
    "def get_optimal_path(max_dist, forward_list, return_list):\n",
    "    if not forward_list or not return_list:\n",
    "        return \n",
    "    forward_list = sorted(forward_list, key = lambda x: x[1])\n",
    "    return_list = sorted(return_list, key = lambda x: x[1])\n",
    "    curr_max = float('-inf')\n",
    "    left,right = 0, len(return_list)-1\n",
    "    res = []\n",
    "    while left < len(forward_list) and right >= 0 :\n",
    "        index_left,index_right = forward_list[left][0], return_list[right][0]\n",
    "        curr_sum = forward_list[left][1] + return_list[right][1]\n",
    "        if curr_sum > max_dist:\n",
    "            right -= 1\n",
    "            continue\n",
    "        if curr_sum < curr_max:\n",
    "            left += 1\n",
    "        elif curr_sum == curr_max:\n",
    "            res.append([index_left,index_right])\n",
    "            left += 1\n",
    "        else:\n",
    "            curr_max = curr_sum\n",
    "            res = [[index_left,index_right]]\n",
    "            left += 1\n",
    "    return res"
   ]
  },
  {
   "cell_type": "code",
   "execution_count": 6,
   "metadata": {},
   "outputs": [
    {
     "data": {
      "text/plain": [
       "[[2, 1]]"
      ]
     },
     "execution_count": 6,
     "metadata": {},
     "output_type": "execute_result"
    }
   ],
   "source": [
    "# test case:\n",
    "get_optimal_path(11, [[1, 5], [2, 5]], [ [1, 5], [2, 5] ])\n",
    "get_optimal_path(10, [[1, 5], [2, 5]], [ [1, 5], [2, 5] ])\n",
    "get_optimal_path(20, [[1, 8], [2, 7], [3, 14]], [[1, 5], [2, 10], [3, 14]])\n",
    "get_optimal_path(20, [[1, 8], [2, 15], [3, 9]], [[1, 8], [2, 11], [3, 12]])\n",
    "get_optimal_path(7000, [[1, 2000], [2, 4000], [3, 6000]], [[1, 2000]])"
   ]
  },
  {
   "cell_type": "code",
   "execution_count": 8,
   "metadata": {},
   "outputs": [
    {
     "data": {
      "text/plain": [
       "[[1, 2], [2, 2]]"
      ]
     },
     "execution_count": 8,
     "metadata": {},
     "output_type": "execute_result"
    }
   ],
   "source": [
    "#you bug..jixu tiaoshi....\n",
    "get_optimal_path(11, [[1, 5], [2, 5]], [ [1, 5], [2, 5] ])"
   ]
  },
  {
   "cell_type": "code",
   "execution_count": null,
   "metadata": {},
   "outputs": [],
   "source": []
  }
 ],
 "metadata": {
  "kernelspec": {
   "display_name": "Python 3",
   "language": "python",
   "name": "python3"
  },
  "language_info": {
   "codemirror_mode": {
    "name": "ipython",
    "version": 3
   },
   "file_extension": ".py",
   "mimetype": "text/x-python",
   "name": "python",
   "nbconvert_exporter": "python",
   "pygments_lexer": "ipython3",
   "version": "3.7.4"
  }
 },
 "nbformat": 4,
 "nbformat_minor": 2
}
